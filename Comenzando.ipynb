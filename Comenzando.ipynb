{
 "cells": [
  {
   "cell_type": "markdown",
   "metadata": {},
   "source": [
    "# Vamos a comenzar !\n",
    "\n",
    "Primero instalaremos la siguiente libreria desde Anaconda Navigator o CMD pero recuerden activar su entorno, como vimos en la introduccion, ahora proseguiremos con la instalacion\n",
    "\n",
    "Anaconda:\n",
    "\n",
    "___activate sklearn___\n",
    "\n",
    "___conda install jupyter lab___\n",
    "\n",
    "___conda install sklearn___\n",
    "\n",
    "y corremos la siguiente linea en cmd\n",
    "\n",
    "___jupyter lab___\n",
    "\n",
    "Anaconda Navigator:\n",
    "\n",
    "Activamos nuestro entorno llamado sklearn y buscamos en nuestras librerias no instaladas, jupyter lab y sklearn y las instalamos\n",
    "\n",
    "lanzamos jupyter lab desde la pestaña home\n",
    "\n",
    "Python Pypi (pip):\n",
    "\n",
    "___activate sklearn___\n",
    "\n",
    "___pip install jupyter lab___\n",
    "\n",
    "___pip install numpy___\n",
    "\n",
    "___pip install scipy___\n",
    "\n",
    "___pip install sklearn___\n",
    "\n",
    "corremos la linea siguiente\n",
    "\n",
    "___jupyter lab___\n",
    "\n",
    "y corremos la siguiente linea para validar la instalacion"
   ]
  },
  {
   "cell_type": "code",
   "execution_count": 1,
   "metadata": {},
   "outputs": [
    {
     "name": "stdout",
     "output_type": "stream",
     "text": [
      "Requirement already satisfied: numpy in c:\\users\\jaime crispi\\anaconda3\\envs\\sklearn\\lib\\site-packages (1.14.3)\n",
      "Requirement already satisfied: scipy in c:\\users\\jaime crispi\\anaconda3\\envs\\sklearn\\lib\\site-packages (1.1.0)\n",
      "Requirement already satisfied: numpy>=1.8.2 in c:\\users\\jaime crispi\\anaconda3\\envs\\sklearn\\lib\\site-packages (from scipy) (1.14.3)\n",
      "Requirement already satisfied: sklearn in c:\\users\\jaime crispi\\anaconda3\\envs\\sklearn\\lib\\site-packages (0.0)\n",
      "Requirement already satisfied: scikit-learn in c:\\users\\jaime crispi\\anaconda3\\envs\\sklearn\\lib\\site-packages (from sklearn) (0.19.1)\n"
     ]
    }
   ],
   "source": [
    "#Instala sklearn (Solo en la version interactiva)\n",
    "!pip install numpy\n",
    "!pip install scipy\n",
    "!pip install sklearn"
   ]
  },
  {
   "cell_type": "code",
   "execution_count": 6,
   "metadata": {},
   "outputs": [],
   "source": [
    "#Linea de validacion\n",
    "from sklearn import datasets"
   ]
  },
  {
   "cell_type": "code",
   "execution_count": null,
   "metadata": {},
   "outputs": [],
   "source": []
  }
 ],
 "metadata": {
  "kernelspec": {
   "display_name": "Python 3",
   "language": "python",
   "name": "python3"
  },
  "language_info": {
   "codemirror_mode": {
    "name": "ipython",
    "version": 3
   },
   "file_extension": ".py",
   "mimetype": "text/x-python",
   "name": "python",
   "nbconvert_exporter": "python",
   "pygments_lexer": "ipython3",
   "version": "3.6.5"
  }
 },
 "nbformat": 4,
 "nbformat_minor": 2
}
